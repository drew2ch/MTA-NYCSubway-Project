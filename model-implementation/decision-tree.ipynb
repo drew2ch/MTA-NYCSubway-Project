{
 "cells": [
  {
   "cell_type": "markdown",
   "id": "e5881d36",
   "metadata": {},
   "source": [
    "# Decision Tree Regression\n",
    "\n",
    "Andrew Chung, hc893, 4/26/2025\n",
    "\n",
    "Decision Tree Regression implementation."
   ]
  },
  {
   "cell_type": "code",
   "execution_count": 1,
   "id": "ed947635",
   "metadata": {},
   "outputs": [],
   "source": [
    "import numpy as np\n",
    "import pandas as pd\n",
    "import seaborn as sns\n",
    "from matplotlib import pyplot as plt\n",
    "from sklearn.ensemble import RandomForestRegressor\n",
    "from sklearn.model_selection import train_test_split, GridSearchCV\n",
    "from sklearn.metrics import mean_squared_error, r2_score\n",
    "from xgboost import XGBRegressor"
   ]
  },
  {
   "cell_type": "markdown",
   "id": "79569190",
   "metadata": {},
   "source": [
    "**Import Data**"
   ]
  },
  {
   "cell_type": "code",
   "execution_count": 2,
   "id": "d489444f",
   "metadata": {},
   "outputs": [],
   "source": [
    "data = pd.read_csv(\"subwaydata.csv\").iloc[:, 1:]  # remove unlabelled index column\n",
    "X = data.iloc[:, 3:]\n",
    "y = data['ridership']/1000\n",
    "# ensure that X and y are equal in size\n",
    "assert X.shape[0] == y.size, \"Non-conformable X and y inputs\""
   ]
  },
  {
   "cell_type": "code",
   "execution_count": 3,
   "id": "6b3a2f37",
   "metadata": {},
   "outputs": [],
   "source": [
    "# train and test split\n",
    "X_train, X_test, y_train, y_test = train_test_split(X, y, test_size = 0.2, random_state = 42)\n",
    "y_train, y_test = np.log(y_train), np.log(y_test)"
   ]
  },
  {
   "cell_type": "markdown",
   "id": "65f3dec5",
   "metadata": {},
   "source": [
    "## Random Forest Regression"
   ]
  },
  {
   "cell_type": "code",
   "execution_count": 4,
   "id": "aded1bb6",
   "metadata": {},
   "outputs": [
    {
     "name": "stdout",
     "output_type": "stream",
     "text": [
      "Random Forest Test MSE: 0.24528573578837404\n",
      "Random Forest Test R²: 0.7567733358931803\n"
     ]
    }
   ],
   "source": [
    "rf = RandomForestRegressor(\n",
    "  n_estimators = 500,\n",
    "  max_depth = None,\n",
    "  min_samples_split = 2, \n",
    "  min_samples_leaf = 1,\n",
    "  max_features = 'sqrt', # m = 3-4\n",
    "  random_state = 42,\n",
    "  n_jobs = -1\n",
    ")\n",
    "\n",
    "rf.fit(X_train, y_train)\n",
    "rf_preds = rf.predict(X_test)\n",
    "rf_mse = mean_squared_error(y_test, rf_preds)\n",
    "rf_r2 = r2_score(y_test, rf_preds)\n",
    "\n",
    "print(\"Random Forest Test MSE: {}\".format(rf_mse))\n",
    "print(\"Random Forest Test R²: {}\".format(rf_r2))"
   ]
  },
  {
   "cell_type": "markdown",
   "id": "40e35bb8",
   "metadata": {},
   "source": [
    "## XGBoost Regression"
   ]
  },
  {
   "cell_type": "code",
   "execution_count": 5,
   "id": "ab502807",
   "metadata": {},
   "outputs": [
    {
     "name": "stdout",
     "output_type": "stream",
     "text": [
      "XGBoost Test MSE: 0.28310919381351296\n",
      "XGBoost Test R²: 0.719267390058743\n"
     ]
    }
   ],
   "source": [
    "xgb = XGBRegressor(\n",
    "    n_estimators=100,    # 100 boosting rounds\n",
    "    learning_rate=0.1,   # step size shrinkage\n",
    "    max_depth=3,         # depth of each tree\n",
    "    subsample=0.8,       # row sampling\n",
    "    colsample_bytree=0.8, # feature sampling\n",
    "    reg_alpha=0.1,          # L1 regularization\n",
    "    reg_lambda=1.0,         # L2 regularization\n",
    "    random_state=42,\n",
    "    n_jobs=-1\n",
    ")\n",
    "\n",
    "xgb.fit(X_train, y_train)\n",
    "xgb_preds = xgb.predict(X_test)\n",
    "xgb_mse = mean_squared_error(y_test, xgb_preds)\n",
    "xgb_r2 = r2_score(y_test, xgb_preds)\n",
    "\n",
    "print(\"XGBoost Test MSE: {}\".format(xgb_mse))\n",
    "print(\"XGBoost Test R²: {}\".format(xgb_r2))"
   ]
  }
 ],
 "metadata": {
  "kernelspec": {
   "display_name": "Python 3",
   "language": "python",
   "name": "python3"
  },
  "language_info": {
   "codemirror_mode": {
    "name": "ipython",
    "version": 3
   },
   "file_extension": ".py",
   "mimetype": "text/x-python",
   "name": "python",
   "nbconvert_exporter": "python",
   "pygments_lexer": "ipython3",
   "version": "3.12.4"
  }
 },
 "nbformat": 4,
 "nbformat_minor": 5
}
