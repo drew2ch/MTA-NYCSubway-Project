{
 "cells": [
  {
   "cell_type": "markdown",
   "id": "a9404b95",
   "metadata": {},
   "source": [
    "# Ordinary Least Squares (OLS) Linear Regression -- Weighted Data\n",
    "\n",
    "Andrew Chung, hc893, 4/26/2025\n",
    "\n",
    "Implementation and Statistical Inference of Ordinary Least Squares (OLS) Regression Models. I will utilize the ridership-weighted data set for OLS modeling and for the remainder of the project."
   ]
  },
  {
   "cell_type": "code",
   "execution_count": 1,
   "id": "5f023120",
   "metadata": {},
   "outputs": [],
   "source": [
    "import numpy as np\n",
    "import pandas as pd\n",
    "import statsmodels.api as sm\n",
    "import statsmodels.formula.api as smf\n",
    "import seaborn as sns\n",
    "from sklearn.linear_model import Ridge, Lasso, ElasticNet, BayesianRidge\n",
    "from matplotlib import pyplot as plt\n",
    "from statsmodels.stats.anova import anova_lm\n",
    "from statsmodels.stats.outliers_influence import variance_inflation_factor\n",
    "from sklearn.linear_model import LinearRegression\n",
    "from mlxtend.feature_selection import SequentialFeatureSelector as SFS"
   ]
  },
  {
   "cell_type": "markdown",
   "id": "b4cbbf34",
   "metadata": {},
   "source": [
    "## Import Data, Fit OLS Model\n",
    "\n",
    "Ordinary Least Squares Linear Model: $\\mathbf{y} = \\mathbf{Xb}$"
   ]
  },
  {
   "cell_type": "code",
   "execution_count": 2,
   "id": "c0fd5c1f",
   "metadata": {},
   "outputs": [
    {
     "data": {
      "text/html": [
       "<table class=\"simpletable\">\n",
       "<caption>OLS Regression Results</caption>\n",
       "<tr>\n",
       "  <th>Dep. Variable:</th>            <td>y</td>        <th>  R-squared:         </th> <td>   0.681</td>\n",
       "</tr>\n",
       "<tr>\n",
       "  <th>Model:</th>                   <td>OLS</td>       <th>  Adj. R-squared:    </th> <td>   0.661</td>\n",
       "</tr>\n",
       "<tr>\n",
       "  <th>Method:</th>             <td>Least Squares</td>  <th>  F-statistic:       </th> <td>   33.38</td>\n",
       "</tr>\n",
       "<tr>\n",
       "  <th>Date:</th>             <td>Sat, 26 Apr 2025</td> <th>  Prob (F-statistic):</th> <td>4.29e-37</td>\n",
       "</tr>\n",
       "<tr>\n",
       "  <th>Time:</th>                 <td>17:17:27</td>     <th>  Log-Likelihood:    </th> <td> -1189.0</td>\n",
       "</tr>\n",
       "<tr>\n",
       "  <th>No. Observations:</th>      <td>   184</td>      <th>  AIC:               </th> <td>   2402.</td>\n",
       "</tr>\n",
       "<tr>\n",
       "  <th>Df Residuals:</th>          <td>   172</td>      <th>  BIC:               </th> <td>   2441.</td>\n",
       "</tr>\n",
       "<tr>\n",
       "  <th>Df Model:</th>              <td>    11</td>      <th>                     </th>     <td> </td>   \n",
       "</tr>\n",
       "<tr>\n",
       "  <th>Covariance Type:</th>      <td>nonrobust</td>    <th>                     </th>     <td> </td>   \n",
       "</tr>\n",
       "</table>\n",
       "<table class=\"simpletable\">\n",
       "<tr>\n",
       "                <td></td>                  <th>coef</th>     <th>std err</th>      <th>t</th>      <th>P>|t|</th>  <th>[0.025</th>    <th>0.975]</th>  \n",
       "</tr>\n",
       "<tr>\n",
       "  <th>const</th>                        <td>  -81.3493</td> <td>   22.403</td> <td>   -3.631</td> <td> 0.000</td> <td> -125.569</td> <td>  -37.129</td>\n",
       "</tr>\n",
       "<tr>\n",
       "  <th>additional_platform_time</th>     <td>    5.4055</td> <td>   40.392</td> <td>    0.134</td> <td> 0.894</td> <td>  -74.323</td> <td>   85.134</td>\n",
       "</tr>\n",
       "<tr>\n",
       "  <th>additional_train_time</th>        <td>   22.3040</td> <td>   31.048</td> <td>    0.718</td> <td> 0.474</td> <td>  -38.980</td> <td>   83.588</td>\n",
       "</tr>\n",
       "<tr>\n",
       "  <th>over_five_mins_perc</th>          <td> -508.4364</td> <td>  383.485</td> <td>   -1.326</td> <td> 0.187</td> <td>-1265.379</td> <td>  248.506</td>\n",
       "</tr>\n",
       "<tr>\n",
       "  <th>wait_assessment</th>              <td>  357.7608</td> <td>  287.051</td> <td>    1.246</td> <td> 0.214</td> <td> -208.835</td> <td>  924.356</td>\n",
       "</tr>\n",
       "<tr>\n",
       "  <th>service_delivered</th>            <td> -749.7911</td> <td>  327.022</td> <td>   -2.293</td> <td> 0.023</td> <td>-1395.283</td> <td> -104.299</td>\n",
       "</tr>\n",
       "<tr>\n",
       "  <th>terminal_on_time_performance</th> <td>  669.3684</td> <td>  174.535</td> <td>    3.835</td> <td> 0.000</td> <td>  324.863</td> <td> 1013.874</td>\n",
       "</tr>\n",
       "<tr>\n",
       "  <th>percent_late</th>                 <td>  451.8694</td> <td>  556.650</td> <td>    0.812</td> <td> 0.418</td> <td> -646.875</td> <td> 1550.614</td>\n",
       "</tr>\n",
       "<tr>\n",
       "  <th>infra_critical</th>               <td>   -3.1200</td> <td>    5.665</td> <td>   -0.551</td> <td> 0.583</td> <td>  -14.302</td> <td>    8.062</td>\n",
       "</tr>\n",
       "<tr>\n",
       "  <th>noninfra_critical</th>            <td>   13.0966</td> <td>    7.049</td> <td>    1.858</td> <td> 0.065</td> <td>   -0.818</td> <td>   27.011</td>\n",
       "</tr>\n",
       "<tr>\n",
       "  <th>infra_noncritical</th>            <td>    0.0799</td> <td>    0.031</td> <td>    2.579</td> <td> 0.011</td> <td>    0.019</td> <td>    0.141</td>\n",
       "</tr>\n",
       "<tr>\n",
       "  <th>noninfra_noncritical</th>         <td>   -0.0220</td> <td>    0.053</td> <td>   -0.415</td> <td> 0.679</td> <td>   -0.127</td> <td>    0.083</td>\n",
       "</tr>\n",
       "</table>\n",
       "<table class=\"simpletable\">\n",
       "<tr>\n",
       "  <th>Omnibus:</th>       <td>75.617</td> <th>  Durbin-Watson:     </th> <td>   1.065</td>\n",
       "</tr>\n",
       "<tr>\n",
       "  <th>Prob(Omnibus):</th> <td> 0.000</td> <th>  Jarque-Bera (JB):  </th> <td> 425.635</td>\n",
       "</tr>\n",
       "<tr>\n",
       "  <th>Skew:</th>          <td> 1.430</td> <th>  Prob(JB):          </th> <td>3.76e-93</td>\n",
       "</tr>\n",
       "<tr>\n",
       "  <th>Kurtosis:</th>      <td> 9.880</td> <th>  Cond. No.          </th> <td>2.14e+05</td>\n",
       "</tr>\n",
       "</table><br/><br/>Notes:<br/>[1] Standard Errors assume that the covariance matrix of the errors is correctly specified.<br/>[2] The condition number is large, 2.14e+05. This might indicate that there are<br/>strong multicollinearity or other numerical problems."
      ],
      "text/latex": [
       "\\begin{center}\n",
       "\\begin{tabular}{lclc}\n",
       "\\toprule\n",
       "\\textbf{Dep. Variable:}                  &        y         & \\textbf{  R-squared:         } &     0.681   \\\\\n",
       "\\textbf{Model:}                          &       OLS        & \\textbf{  Adj. R-squared:    } &     0.661   \\\\\n",
       "\\textbf{Method:}                         &  Least Squares   & \\textbf{  F-statistic:       } &     33.38   \\\\\n",
       "\\textbf{Date:}                           & Sat, 26 Apr 2025 & \\textbf{  Prob (F-statistic):} &  4.29e-37   \\\\\n",
       "\\textbf{Time:}                           &     17:17:27     & \\textbf{  Log-Likelihood:    } &   -1189.0   \\\\\n",
       "\\textbf{No. Observations:}               &         184      & \\textbf{  AIC:               } &     2402.   \\\\\n",
       "\\textbf{Df Residuals:}                   &         172      & \\textbf{  BIC:               } &     2441.   \\\\\n",
       "\\textbf{Df Model:}                       &          11      & \\textbf{                     } &             \\\\\n",
       "\\textbf{Covariance Type:}                &    nonrobust     & \\textbf{                     } &             \\\\\n",
       "\\bottomrule\n",
       "\\end{tabular}\n",
       "\\begin{tabular}{lcccccc}\n",
       "                                         & \\textbf{coef} & \\textbf{std err} & \\textbf{t} & \\textbf{P$> |$t$|$} & \\textbf{[0.025} & \\textbf{0.975]}  \\\\\n",
       "\\midrule\n",
       "\\textbf{const}                           &     -81.3493  &       22.403     &    -3.631  &         0.000        &     -125.569    &      -37.129     \\\\\n",
       "\\textbf{additional\\_platform\\_time}      &       5.4055  &       40.392     &     0.134  &         0.894        &      -74.323    &       85.134     \\\\\n",
       "\\textbf{additional\\_train\\_time}         &      22.3040  &       31.048     &     0.718  &         0.474        &      -38.980    &       83.588     \\\\\n",
       "\\textbf{over\\_five\\_mins\\_perc}          &    -508.4364  &      383.485     &    -1.326  &         0.187        &    -1265.379    &      248.506     \\\\\n",
       "\\textbf{wait\\_assessment}                &     357.7608  &      287.051     &     1.246  &         0.214        &     -208.835    &      924.356     \\\\\n",
       "\\textbf{service\\_delivered}              &    -749.7911  &      327.022     &    -2.293  &         0.023        &    -1395.283    &     -104.299     \\\\\n",
       "\\textbf{terminal\\_on\\_time\\_performance} &     669.3684  &      174.535     &     3.835  &         0.000        &      324.863    &     1013.874     \\\\\n",
       "\\textbf{percent\\_late}                   &     451.8694  &      556.650     &     0.812  &         0.418        &     -646.875    &     1550.614     \\\\\n",
       "\\textbf{infra\\_critical}                 &      -3.1200  &        5.665     &    -0.551  &         0.583        &      -14.302    &        8.062     \\\\\n",
       "\\textbf{noninfra\\_critical}              &      13.0966  &        7.049     &     1.858  &         0.065        &       -0.818    &       27.011     \\\\\n",
       "\\textbf{infra\\_noncritical}              &       0.0799  &        0.031     &     2.579  &         0.011        &        0.019    &        0.141     \\\\\n",
       "\\textbf{noninfra\\_noncritical}           &      -0.0220  &        0.053     &    -0.415  &         0.679        &       -0.127    &        0.083     \\\\\n",
       "\\bottomrule\n",
       "\\end{tabular}\n",
       "\\begin{tabular}{lclc}\n",
       "\\textbf{Omnibus:}       & 75.617 & \\textbf{  Durbin-Watson:     } &    1.065  \\\\\n",
       "\\textbf{Prob(Omnibus):} &  0.000 & \\textbf{  Jarque-Bera (JB):  } &  425.635  \\\\\n",
       "\\textbf{Skew:}          &  1.430 & \\textbf{  Prob(JB):          } & 3.76e-93  \\\\\n",
       "\\textbf{Kurtosis:}      &  9.880 & \\textbf{  Cond. No.          } & 2.14e+05  \\\\\n",
       "\\bottomrule\n",
       "\\end{tabular}\n",
       "%\\caption{OLS Regression Results}\n",
       "\\end{center}\n",
       "\n",
       "Notes: \\newline\n",
       " [1] Standard Errors assume that the covariance matrix of the errors is correctly specified. \\newline\n",
       " [2] The condition number is large, 2.14e+05. This might indicate that there are \\newline\n",
       " strong multicollinearity or other numerical problems."
      ],
      "text/plain": [
       "<class 'statsmodels.iolib.summary.Summary'>\n",
       "\"\"\"\n",
       "                            OLS Regression Results                            \n",
       "==============================================================================\n",
       "Dep. Variable:                      y   R-squared:                       0.681\n",
       "Model:                            OLS   Adj. R-squared:                  0.661\n",
       "Method:                 Least Squares   F-statistic:                     33.38\n",
       "Date:                Sat, 26 Apr 2025   Prob (F-statistic):           4.29e-37\n",
       "Time:                        17:17:27   Log-Likelihood:                -1189.0\n",
       "No. Observations:                 184   AIC:                             2402.\n",
       "Df Residuals:                     172   BIC:                             2441.\n",
       "Df Model:                          11                                         \n",
       "Covariance Type:            nonrobust                                         \n",
       "================================================================================================\n",
       "                                   coef    std err          t      P>|t|      [0.025      0.975]\n",
       "------------------------------------------------------------------------------------------------\n",
       "const                          -81.3493     22.403     -3.631      0.000    -125.569     -37.129\n",
       "additional_platform_time         5.4055     40.392      0.134      0.894     -74.323      85.134\n",
       "additional_train_time           22.3040     31.048      0.718      0.474     -38.980      83.588\n",
       "over_five_mins_perc           -508.4364    383.485     -1.326      0.187   -1265.379     248.506\n",
       "wait_assessment                357.7608    287.051      1.246      0.214    -208.835     924.356\n",
       "service_delivered             -749.7911    327.022     -2.293      0.023   -1395.283    -104.299\n",
       "terminal_on_time_performance   669.3684    174.535      3.835      0.000     324.863    1013.874\n",
       "percent_late                   451.8694    556.650      0.812      0.418    -646.875    1550.614\n",
       "infra_critical                  -3.1200      5.665     -0.551      0.583     -14.302       8.062\n",
       "noninfra_critical               13.0966      7.049      1.858      0.065      -0.818      27.011\n",
       "infra_noncritical                0.0799      0.031      2.579      0.011       0.019       0.141\n",
       "noninfra_noncritical            -0.0220      0.053     -0.415      0.679      -0.127       0.083\n",
       "==============================================================================\n",
       "Omnibus:                       75.617   Durbin-Watson:                   1.065\n",
       "Prob(Omnibus):                  0.000   Jarque-Bera (JB):              425.635\n",
       "Skew:                           1.430   Prob(JB):                     3.76e-93\n",
       "Kurtosis:                       9.880   Cond. No.                     2.14e+05\n",
       "==============================================================================\n",
       "\n",
       "Notes:\n",
       "[1] Standard Errors assume that the covariance matrix of the errors is correctly specified.\n",
       "[2] The condition number is large, 2.14e+05. This might indicate that there are\n",
       "strong multicollinearity or other numerical problems.\n",
       "\"\"\""
      ]
     },
     "execution_count": 2,
     "metadata": {},
     "output_type": "execute_result"
    }
   ],
   "source": [
    "data = pd.read_csv(\"Weighted_Data_Apr23.csv\").iloc[:, 1:]  # remove unlabelled index column\n",
    "X = data.iloc[:, 3:]\n",
    "y = data['ridership'].to_numpy()/1000 # scale to 1K\n",
    "# ensure that X and y are equal in size\n",
    "assert X.shape[0] == y.size, \"Incompatible X and y dimensions\"\n",
    "\n",
    "ols = sm.OLS(y, sm.add_constant(X)).fit()\n",
    "ols.summary()"
   ]
  },
  {
   "cell_type": "markdown",
   "id": "727f2208",
   "metadata": {},
   "source": [
    "## Residual Diagnostics"
   ]
  },
  {
   "cell_type": "code",
   "execution_count": 3,
   "id": "1c42cfcd",
   "metadata": {},
   "outputs": [
    {
     "data": {
      "image/png": "[encoded data removed]",
      "text/plain": [
       "<Figure size 640x480 with 1 Axes>"
      ]
     },
     "metadata": {},
     "output_type": "display_data"
    }
   ],
   "source": [
    "# Residual plot\n",
    "resid = ols.resid\n",
    "y_ = ols.fittedvalues\n",
    "plt.figure()\n",
    "sns.scatterplot(x = y_, y = resid)\n",
    "plt.axhline(0, linestyle='--')\n",
    "plt.xlabel('Fitted values')\n",
    "plt.ylabel('Residuals')\n",
    "plt.title('Residuals vs. Fitted')\n",
    "plt.show()"
   ]
  },
  {
   "cell_type": "markdown",
   "id": "2b8c6572",
   "metadata": {},
   "source": [
    "Non-constant variance - **heteroskedascity** (as fitted values increase) and extreme outliers plague the raw OLS model. I will thus perform a **log-transformation of the response** to look for improvement."
   ]
  },
  {
   "cell_type": "markdown",
   "id": "bd82922e",
   "metadata": {},
   "source": [
    "## Fit Log-Transformed Model\n",
    "\n",
    "Log-Transformed Ordinary Least Squares Linear Model: $\\log(\\mathbf{y}) = \\mathbf{Xb}$"
   ]
  },
  {
   "cell_type": "code",
   "execution_count": 4,
   "id": "98849953",
   "metadata": {},
   "outputs": [
    {
     "data": {
      "text/html": [
       "<table class=\"simpletable\">\n",
       "<caption>OLS Regression Results</caption>\n",
       "<tr>\n",
       "  <th>Dep. Variable:</th>            <td>y</td>        <th>  R-squared:         </th> <td>   0.678</td>\n",
       "</tr>\n",
       "<tr>\n",
       "  <th>Model:</th>                   <td>OLS</td>       <th>  Adj. R-squared:    </th> <td>   0.657</td>\n",
       "</tr>\n",
       "<tr>\n",
       "  <th>Method:</th>             <td>Least Squares</td>  <th>  F-statistic:       </th> <td>   32.90</td>\n",
       "</tr>\n",
       "<tr>\n",
       "  <th>Date:</th>             <td>Sat, 26 Apr 2025</td> <th>  Prob (F-statistic):</th> <td>9.75e-37</td>\n",
       "</tr>\n",
       "<tr>\n",
       "  <th>Time:</th>                 <td>18:37:05</td>     <th>  Log-Likelihood:    </th> <td> -152.96</td>\n",
       "</tr>\n",
       "<tr>\n",
       "  <th>No. Observations:</th>      <td>   184</td>      <th>  AIC:               </th> <td>   329.9</td>\n",
       "</tr>\n",
       "<tr>\n",
       "  <th>Df Residuals:</th>          <td>   172</td>      <th>  BIC:               </th> <td>   368.5</td>\n",
       "</tr>\n",
       "<tr>\n",
       "  <th>Df Model:</th>              <td>    11</td>      <th>                     </th>     <td> </td>   \n",
       "</tr>\n",
       "<tr>\n",
       "  <th>Covariance Type:</th>      <td>nonrobust</td>    <th>                     </th>     <td> </td>   \n",
       "</tr>\n",
       "</table>\n",
       "<table class=\"simpletable\">\n",
       "<tr>\n",
       "                <td></td>                  <th>coef</th>     <th>std err</th>      <th>t</th>      <th>P>|t|</th>  <th>[0.025</th>    <th>0.975]</th>  \n",
       "</tr>\n",
       "<tr>\n",
       "  <th>const</th>                        <td>    3.8655</td> <td>    0.080</td> <td>   48.113</td> <td> 0.000</td> <td>    3.707</td> <td>    4.024</td>\n",
       "</tr>\n",
       "<tr>\n",
       "  <th>additional_platform_time</th>     <td>    0.2234</td> <td>    0.145</td> <td>    1.542</td> <td> 0.125</td> <td>   -0.063</td> <td>    0.509</td>\n",
       "</tr>\n",
       "<tr>\n",
       "  <th>additional_train_time</th>        <td>    0.0009</td> <td>    0.111</td> <td>    0.008</td> <td> 0.994</td> <td>   -0.219</td> <td>    0.221</td>\n",
       "</tr>\n",
       "<tr>\n",
       "  <th>over_five_mins_perc</th>          <td>   -4.0145</td> <td>    1.375</td> <td>   -2.919</td> <td> 0.004</td> <td>   -6.729</td> <td>   -1.300</td>\n",
       "</tr>\n",
       "<tr>\n",
       "  <th>wait_assessment</th>              <td>   -1.6667</td> <td>    1.029</td> <td>   -1.619</td> <td> 0.107</td> <td>   -3.699</td> <td>    0.365</td>\n",
       "</tr>\n",
       "<tr>\n",
       "  <th>service_delivered</th>            <td>    1.1278</td> <td>    1.173</td> <td>    0.962</td> <td> 0.338</td> <td>   -1.187</td> <td>    3.443</td>\n",
       "</tr>\n",
       "<tr>\n",
       "  <th>terminal_on_time_performance</th> <td>    0.6561</td> <td>    0.626</td> <td>    1.048</td> <td> 0.296</td> <td>   -0.579</td> <td>    1.892</td>\n",
       "</tr>\n",
       "<tr>\n",
       "  <th>percent_late</th>                 <td>    2.5121</td> <td>    1.996</td> <td>    1.258</td> <td> 0.210</td> <td>   -1.428</td> <td>    6.452</td>\n",
       "</tr>\n",
       "<tr>\n",
       "  <th>infra_critical</th>               <td>   -0.0092</td> <td>    0.020</td> <td>   -0.453</td> <td> 0.651</td> <td>   -0.049</td> <td>    0.031</td>\n",
       "</tr>\n",
       "<tr>\n",
       "  <th>noninfra_critical</th>            <td>    0.0707</td> <td>    0.025</td> <td>    2.799</td> <td> 0.006</td> <td>    0.021</td> <td>    0.121</td>\n",
       "</tr>\n",
       "<tr>\n",
       "  <th>infra_noncritical</th>            <td>    0.0001</td> <td>    0.000</td> <td>    1.118</td> <td> 0.265</td> <td> -9.5e-05</td> <td>    0.000</td>\n",
       "</tr>\n",
       "<tr>\n",
       "  <th>noninfra_noncritical</th>         <td>   -0.0002</td> <td>    0.000</td> <td>   -1.044</td> <td> 0.298</td> <td>   -0.001</td> <td>    0.000</td>\n",
       "</tr>\n",
       "</table>\n",
       "<table class=\"simpletable\">\n",
       "<tr>\n",
       "  <th>Omnibus:</th>       <td> 5.765</td> <th>  Durbin-Watson:     </th> <td>   1.108</td>\n",
       "</tr>\n",
       "<tr>\n",
       "  <th>Prob(Omnibus):</th> <td> 0.056</td> <th>  Jarque-Bera (JB):  </th> <td>   3.449</td>\n",
       "</tr>\n",
       "<tr>\n",
       "  <th>Skew:</th>          <td> 0.130</td> <th>  Prob(JB):          </th> <td>   0.178</td>\n",
       "</tr>\n",
       "<tr>\n",
       "  <th>Kurtosis:</th>      <td> 2.382</td> <th>  Cond. No.          </th> <td>2.14e+05</td>\n",
       "</tr>\n",
       "</table><br/><br/>Notes:<br/>[1] Standard Errors assume that the covariance matrix of the errors is correctly specified.<br/>[2] The condition number is large, 2.14e+05. This might indicate that there are<br/>strong multicollinearity or other numerical problems."
      ],
      "text/latex": [
       "\\begin{center}\n",
       "\\begin{tabular}{lclc}\n",
       "\\toprule\n",
       "\\textbf{Dep. Variable:}                  &        y         & \\textbf{  R-squared:         } &     0.678   \\\\\n",
       "\\textbf{Model:}                          &       OLS        & \\textbf{  Adj. R-squared:    } &     0.657   \\\\\n",
       "\\textbf{Method:}                         &  Least Squares   & \\textbf{  F-statistic:       } &     32.90   \\\\\n",
       "\\textbf{Date:}                           & Sat, 26 Apr 2025 & \\textbf{  Prob (F-statistic):} &  9.75e-37   \\\\\n",
       "\\textbf{Time:}                           &     18:37:05     & \\textbf{  Log-Likelihood:    } &   -152.96   \\\\\n",
       "\\textbf{No. Observations:}               &         184      & \\textbf{  AIC:               } &     329.9   \\\\\n",
       "\\textbf{Df Residuals:}                   &         172      & \\textbf{  BIC:               } &     368.5   \\\\\n",
       "\\textbf{Df Model:}                       &          11      & \\textbf{                     } &             \\\\\n",
       "\\textbf{Covariance Type:}                &    nonrobust     & \\textbf{                     } &             \\\\\n",
       "\\bottomrule\n",
       "\\end{tabular}\n",
       "\\begin{tabular}{lcccccc}\n",
       "                                         & \\textbf{coef} & \\textbf{std err} & \\textbf{t} & \\textbf{P$> |$t$|$} & \\textbf{[0.025} & \\textbf{0.975]}  \\\\\n",
       "\\midrule\n",
       "\\textbf{const}                           &       3.8655  &        0.080     &    48.113  &         0.000        &        3.707    &        4.024     \\\\\n",
       "\\textbf{additional\\_platform\\_time}      &       0.2234  &        0.145     &     1.542  &         0.125        &       -0.063    &        0.509     \\\\\n",
       "\\textbf{additional\\_train\\_time}         &       0.0009  &        0.111     &     0.008  &         0.994        &       -0.219    &        0.221     \\\\\n",
       "\\textbf{over\\_five\\_mins\\_perc}          &      -4.0145  &        1.375     &    -2.919  &         0.004        &       -6.729    &       -1.300     \\\\\n",
       "\\textbf{wait\\_assessment}                &      -1.6667  &        1.029     &    -1.619  &         0.107        &       -3.699    &        0.365     \\\\\n",
       "\\textbf{service\\_delivered}              &       1.1278  &        1.173     &     0.962  &         0.338        &       -1.187    &        3.443     \\\\\n",
       "\\textbf{terminal\\_on\\_time\\_performance} &       0.6561  &        0.626     &     1.048  &         0.296        &       -0.579    &        1.892     \\\\\n",
       "\\textbf{percent\\_late}                   &       2.5121  &        1.996     &     1.258  &         0.210        &       -1.428    &        6.452     \\\\\n",
       "\\textbf{infra\\_critical}                 &      -0.0092  &        0.020     &    -0.453  &         0.651        &       -0.049    &        0.031     \\\\\n",
       "\\textbf{noninfra\\_critical}              &       0.0707  &        0.025     &     2.799  &         0.006        &        0.021    &        0.121     \\\\\n",
       "\\textbf{infra\\_noncritical}              &       0.0001  &        0.000     &     1.118  &         0.265        &     -9.5e-05    &        0.000     \\\\\n",
       "\\textbf{noninfra\\_noncritical}           &      -0.0002  &        0.000     &    -1.044  &         0.298        &       -0.001    &        0.000     \\\\\n",
       "\\bottomrule\n",
       "\\end{tabular}\n",
       "\\begin{tabular}{lclc}\n",
       "\\textbf{Omnibus:}       &  5.765 & \\textbf{  Durbin-Watson:     } &    1.108  \\\\\n",
       "\\textbf{Prob(Omnibus):} &  0.056 & \\textbf{  Jarque-Bera (JB):  } &    3.449  \\\\\n",
       "\\textbf{Skew:}          &  0.130 & \\textbf{  Prob(JB):          } &    0.178  \\\\\n",
       "\\textbf{Kurtosis:}      &  2.382 & \\textbf{  Cond. No.          } & 2.14e+05  \\\\\n",
       "\\bottomrule\n",
       "\\end{tabular}\n",
       "%\\caption{OLS Regression Results}\n",
       "\\end{center}\n",
       "\n",
       "Notes: \\newline\n",
       " [1] Standard Errors assume that the covariance matrix of the errors is correctly specified. \\newline\n",
       " [2] The condition number is large, 2.14e+05. This might indicate that there are \\newline\n",
       " strong multicollinearity or other numerical problems."
      ],
      "text/plain": [
       "<class 'statsmodels.iolib.summary.Summary'>\n",
       "\"\"\"\n",
       "                            OLS Regression Results                            \n",
       "==============================================================================\n",
       "Dep. Variable:                      y   R-squared:                       0.678\n",
       "Model:                            OLS   Adj. R-squared:                  0.657\n",
       "Method:                 Least Squares   F-statistic:                     32.90\n",
       "Date:                Sat, 26 Apr 2025   Prob (F-statistic):           9.75e-37\n",
       "Time:                        18:37:05   Log-Likelihood:                -152.96\n",
       "No. Observations:                 184   AIC:                             329.9\n",
       "Df Residuals:                     172   BIC:                             368.5\n",
       "Df Model:                          11                                         \n",
       "Covariance Type:            nonrobust                                         \n",
       "================================================================================================\n",
       "                                   coef    std err          t      P>|t|      [0.025      0.975]\n",
       "------------------------------------------------------------------------------------------------\n",
       "const                            3.8655      0.080     48.113      0.000       3.707       4.024\n",
       "additional_platform_time         0.2234      0.145      1.542      0.125      -0.063       0.509\n",
       "additional_train_time            0.0009      0.111      0.008      0.994      -0.219       0.221\n",
       "over_five_mins_perc             -4.0145      1.375     -2.919      0.004      -6.729      -1.300\n",
       "wait_assessment                 -1.6667      1.029     -1.619      0.107      -3.699       0.365\n",
       "service_delivered                1.1278      1.173      0.962      0.338      -1.187       3.443\n",
       "terminal_on_time_performance     0.6561      0.626      1.048      0.296      -0.579       1.892\n",
       "percent_late                     2.5121      1.996      1.258      0.210      -1.428       6.452\n",
       "infra_critical                  -0.0092      0.020     -0.453      0.651      -0.049       0.031\n",
       "noninfra_critical                0.0707      0.025      2.799      0.006       0.021       0.121\n",
       "infra_noncritical                0.0001      0.000      1.118      0.265    -9.5e-05       0.000\n",
       "noninfra_noncritical            -0.0002      0.000     -1.044      0.298      -0.001       0.000\n",
       "==============================================================================\n",
       "Omnibus:                        5.765   Durbin-Watson:                   1.108\n",
       "Prob(Omnibus):                  0.056   Jarque-Bera (JB):                3.449\n",
       "Skew:                           0.130   Prob(JB):                        0.178\n",
       "Kurtosis:                       2.382   Cond. No.                     2.14e+05\n",
       "==============================================================================\n",
       "\n",
       "Notes:\n",
       "[1] Standard Errors assume that the covariance matrix of the errors is correctly specified.\n",
       "[2] The condition number is large, 2.14e+05. This might indicate that there are\n",
       "strong multicollinearity or other numerical problems.\n",
       "\"\"\""
      ]
     },
     "execution_count": 4,
     "metadata": {},
     "output_type": "execute_result"
    }
   ],
   "source": [
    "ols_log = sm.OLS(np.log(y), sm.add_constant(X)).fit()\n",
    "ols_log.summary()"
   ]
  },
  {
   "cell_type": "code",
   "execution_count": 5,
   "id": "92e8b4df",
   "metadata": {},
   "outputs": [
    {
     "data": {
      "image/png": "[encoded data removed]",
      "text/plain": [
       "<Figure size 640x480 with 1 Axes>"
      ]
     },
     "metadata": {},
     "output_type": "display_data"
    }
   ],
   "source": [
    "resid = ols_log.resid\n",
    "y_ = ols_log.fittedvalues\n",
    "plt.figure()\n",
    "sns.scatterplot(x = y_, y = resid)\n",
    "plt.axhline(0, linestyle='--')\n",
    "plt.xlabel('Fitted values')\n",
    "plt.ylabel('Residuals')\n",
    "plt.title('Residuals vs. Fitted (Log Transformed)')\n",
    "plt.show()"
   ]
  },
  {
   "cell_type": "markdown",
   "id": "c6049fb3",
   "metadata": {},
   "source": [
    "Marked improvement in homoscedascity and residual magnitude is observed, at a negligible cost in $R^2$."
   ]
  },
  {
   "cell_type": "markdown",
   "id": "e05d94a7",
   "metadata": {},
   "source": [
    "## QQ Plots"
   ]
  },
  {
   "cell_type": "code",
   "execution_count": 6,
   "id": "797c057c",
   "metadata": {},
   "outputs": [
    {
     "data": {
      "image/png": "[encoded data removed]",
      "text/plain": [
       "<Figure size 640x480 with 1 Axes>"
      ]
     },
     "metadata": {},
     "output_type": "display_data"
    }
   ],
   "source": [
    "sm.qqplot(resid, line = '45')\n",
    "plt.title('QQ-plot of residuals')\n",
    "plt.show()"
   ]
  },
  {
   "cell_type": "markdown",
   "id": "2cd00452",
   "metadata": {},
   "source": [
    "The QQ plot verifies that the residuals are close to normal -- albeit a slight deviation in the extremes -- validating our linear assumptions. Systematic deviations away from the 45-degree line at moderate to extreme quantiles exist, but are relatively minor and likely acceptable for inference in large samples."
   ]
  },
  {
   "cell_type": "markdown",
   "id": "06335e83",
   "metadata": {},
   "source": [
    "## Coefficients and CI"
   ]
  },
  {
   "cell_type": "code",
   "execution_count": 7,
   "id": "ff1e5905",
   "metadata": {},
   "outputs": [
    {
     "data": {
      "application/vnd.microsoft.datawrangler.viewer.v0+json": {
       "columns": [
        {
         "name": "index",
         "rawType": "object",
         "type": "string"
        },
        {
         "name": "coeff",
         "rawType": "float64",
         "type": "float"
        },
        {
         "name": "lower",
         "rawType": "float64",
         "type": "float"
        },
        {
         "name": "upper",
         "rawType": "float64",
         "type": "float"
        }
       ],
       "conversionMethod": "pd.DataFrame",
       "ref": "a532919d-e4e4-4c64-b7a8-2d09ed423fc3",
       "rows": [
        [
         "const",
         "3.8654802471108094",
         "3.7068979840264187",
         "4.024062510195201"
        ],
        [
         "additional_platform_time",
         "0.22342447898051632",
         "-0.06250010533420669",
         "0.5093490632952393"
        ],
        [
         "additional_train_time",
         "0.0008935420943551597",
         "-0.21888575004301875",
         "0.22067283423172906"
        ],
        [
         "over_five_mins_perc",
         "-4.014522050347203",
         "-6.729085413758294",
         "-1.2999586869361126"
        ],
        [
         "wait_assessment",
         "-1.666744662577056",
         "-3.698680659676935",
         "0.36519133452282304"
        ],
        [
         "service_delivered",
         "1.1277937578479662",
         "-1.1870843571518819",
         "3.4426718728478143"
        ],
        [
         "terminal_on_time_performance",
         "0.6560943684993816",
         "-0.5793794335487377",
         "1.891568170547501"
        ],
        [
         "percent_late",
         "2.5121469733067405",
         "-1.428191923732558",
         "6.452485870346039"
        ],
        [
         "infra_critical",
         "-0.009205244847728722",
         "-0.049307908190399666",
         "0.030897418494942222"
        ],
        [
         "noninfra_critical",
         "0.07074878694602477",
         "0.02084797329516326",
         "0.12064960059688627"
        ],
        [
         "infra_noncritical",
         "0.00012411192478264704",
         "-9.501930278277613e-05",
         "0.0003432431523480702"
        ],
        [
         "noninfra_noncritical",
         "-0.00019869067894550188",
         "-0.0005744800900332804",
         "0.0001770987321422766"
        ]
       ],
       "shape": {
        "columns": 3,
        "rows": 12
       }
      },
      "text/html": [
       "<div>\n",
       "<style scoped>\n",
       "    .dataframe tbody tr th:only-of-type {\n",
       "        vertical-align: middle;\n",
       "    }\n",
       "\n",
       "    .dataframe tbody tr th {\n",
       "        vertical-align: top;\n",
       "    }\n",
       "\n",
       "    .dataframe thead th {\n",
       "        text-align: right;\n",
       "    }\n",
       "</style>\n",
       "<table border=\"1\" class=\"dataframe\">\n",
       "  <thead>\n",
       "    <tr style=\"text-align: right;\">\n",
       "      <th></th>\n",
       "      <th>coeff</th>\n",
       "      <th>lower</th>\n",
       "      <th>upper</th>\n",
       "    </tr>\n",
       "  </thead>\n",
       "  <tbody>\n",
       "    <tr>\n",
       "      <th>const</th>\n",
       "      <td>3.865480</td>\n",
       "      <td>3.706898</td>\n",
       "      <td>4.024063</td>\n",
       "    </tr>\n",
       "    <tr>\n",
       "      <th>additional_platform_time</th>\n",
       "      <td>0.223424</td>\n",
       "      <td>-0.062500</td>\n",
       "      <td>0.509349</td>\n",
       "    </tr>\n",
       "    <tr>\n",
       "      <th>additional_train_time</th>\n",
       "      <td>0.000894</td>\n",
       "      <td>-0.218886</td>\n",
       "      <td>0.220673</td>\n",
       "    </tr>\n",
       "    <tr>\n",
       "      <th>over_five_mins_perc</th>\n",
       "      <td>-4.014522</td>\n",
       "      <td>-6.729085</td>\n",
       "      <td>-1.299959</td>\n",
       "    </tr>\n",
       "    <tr>\n",
       "      <th>wait_assessment</th>\n",
       "      <td>-1.666745</td>\n",
       "      <td>-3.698681</td>\n",
       "      <td>0.365191</td>\n",
       "    </tr>\n",
       "    <tr>\n",
       "      <th>service_delivered</th>\n",
       "      <td>1.127794</td>\n",
       "      <td>-1.187084</td>\n",
       "      <td>3.442672</td>\n",
       "    </tr>\n",
       "    <tr>\n",
       "      <th>terminal_on_time_performance</th>\n",
       "      <td>0.656094</td>\n",
       "      <td>-0.579379</td>\n",
       "      <td>1.891568</td>\n",
       "    </tr>\n",
       "    <tr>\n",
       "      <th>percent_late</th>\n",
       "      <td>2.512147</td>\n",
       "      <td>-1.428192</td>\n",
       "      <td>6.452486</td>\n",
       "    </tr>\n",
       "    <tr>\n",
       "      <th>infra_critical</th>\n",
       "      <td>-0.009205</td>\n",
       "      <td>-0.049308</td>\n",
       "      <td>0.030897</td>\n",
       "    </tr>\n",
       "    <tr>\n",
       "      <th>noninfra_critical</th>\n",
       "      <td>0.070749</td>\n",
       "      <td>0.020848</td>\n",
       "      <td>0.120650</td>\n",
       "    </tr>\n",
       "    <tr>\n",
       "      <th>infra_noncritical</th>\n",
       "      <td>0.000124</td>\n",
       "      <td>-0.000095</td>\n",
       "      <td>0.000343</td>\n",
       "    </tr>\n",
       "    <tr>\n",
       "      <th>noninfra_noncritical</th>\n",
       "      <td>-0.000199</td>\n",
       "      <td>-0.000574</td>\n",
       "      <td>0.000177</td>\n",
       "    </tr>\n",
       "  </tbody>\n",
       "</table>\n",
       "</div>"
      ],
      "text/plain": [
       "                                 coeff     lower     upper\n",
       "const                         3.865480  3.706898  4.024063\n",
       "additional_platform_time      0.223424 -0.062500  0.509349\n",
       "additional_train_time         0.000894 -0.218886  0.220673\n",
       "over_five_mins_perc          -4.014522 -6.729085 -1.299959\n",
       "wait_assessment              -1.666745 -3.698681  0.365191\n",
       "service_delivered             1.127794 -1.187084  3.442672\n",
       "terminal_on_time_performance  0.656094 -0.579379  1.891568\n",
       "percent_late                  2.512147 -1.428192  6.452486\n",
       "infra_critical               -0.009205 -0.049308  0.030897\n",
       "noninfra_critical             0.070749  0.020848  0.120650\n",
       "infra_noncritical             0.000124 -0.000095  0.000343\n",
       "noninfra_noncritical         -0.000199 -0.000574  0.000177"
      ]
     },
     "execution_count": 7,
     "metadata": {},
     "output_type": "execute_result"
    }
   ],
   "source": [
    "coefs = pd.concat([ols_log.params, ols_log.conf_int()], axis = 1)\n",
    "coefs.columns = ['coeff', 'lower', 'upper']\n",
    "coefs"
   ]
  }
 ],
 "metadata": {
  "kernelspec": {
   "display_name": "Python 3",
   "language": "python",
   "name": "python3"
  },
  "language_info": {
   "codemirror_mode": {
    "name": "ipython",
    "version": 3
   },
   "file_extension": ".py",
   "mimetype": "text/x-python",
   "name": "python",
   "nbconvert_exporter": "python",
   "pygments_lexer": "ipython3",
   "version": "3.12.4"
  }
 },
 "nbformat": 4,
 "nbformat_minor": 5
}
